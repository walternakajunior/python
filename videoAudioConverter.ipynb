{
 "cells": [
  {
   "cell_type": "markdown",
   "id": "played-shopping",
   "metadata": {},
   "source": [
    "# Downloading youtube video files with Python"
   ]
  },
  {
   "cell_type": "code",
   "execution_count": null,
   "id": "7a7d7fe4",
   "metadata": {},
   "outputs": [],
   "source": [
    "#Importing libraries\n",
    "from asyncio import streams\n",
    "from pytube import YouTube\n",
    "\n",
    "print('Programa iniciado')\n",
    "\n",
    "#Receiving video URL\n",
    "video = YouTube('https://www.youtube.com/watch?v=XXXXXXXXXXXX')\n",
    "\n",
    "#Filtering video files with extension .mp4, for all video files just use \"for v in video.streams:\"\n",
    "for v in video.streams.filter(file_extension='mp4'):    \n",
    "    print(v)\n",
    "\n",
    "#Ask which video to choose and download it\n",
    "itag = input('Digite itag do video:')\n",
    "stream = video.streams.get_by_itag(itag)\n",
    "stream.download()\n",
    "\n",
    "print('Finalizado com sucesso!')"
   ]
  },
  {
   "cell_type": "code",
   "execution_count": null,
   "id": "29f133b6",
   "metadata": {},
   "outputs": [],
   "source": [
    "from moviepy.editor import *\n",
    "\n",
    "print('Programa iniciado')\n",
    "\n",
    "#Receiving video file\n",
    "video = VideoFileClip('XXXXXXXXXXXX.mp4')\n",
    "#encoding to .mp3 file\n",
    "video.audio.write_audiofile('XXXXXXXXXXXX.mp3')\n",
    "\n",
    "print('Finalizado com sucesso!')"
   ]
  },
  {
   "cell_type": "code",
   "execution_count": null,
   "id": "78ce994d",
   "metadata": {},
   "outputs": [],
   "source": [
    "from asyncio import streams\n",
    "from pytube import YouTube\n",
    "\n",
    "print('Programa iniciado')\n",
    "\n",
    "#Receiving video URL and downloading audio only\n",
    "audio = YouTube('https://www.youtube.com/watch?v=XXXXXXXXXXXX').streams.filter(only_audio=True)[0]\n",
    "audio.download()\n",
    "\n",
    "print('Finalizado com sucesso!')"
   ]
  }
 ],
 "metadata": {
  "kernelspec": {
   "display_name": "Python 3",
   "language": "python",
   "name": "python3"
  },
  "language_info": {
   "codemirror_mode": {
    "name": "ipython",
    "version": 3
   },
   "file_extension": ".py",
   "mimetype": "text/x-python",
   "name": "python",
   "nbconvert_exporter": "python",
   "pygments_lexer": "ipython3",
   "version": "3.9.1-final"
  }
 },
 "nbformat": 4,
 "nbformat_minor": 5
}
